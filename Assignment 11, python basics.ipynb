{
 "cells": [
  {
   "cell_type": "markdown",
   "id": "52759512",
   "metadata": {},
   "source": [
    "### Question1\n",
    "\n",
    "Create an assert statement that throws an AssertionError if the variable spam is a negative integer.\n",
    "\n",
    "### Answer:\n"
   ]
  },
  {
   "cell_type": "code",
   "execution_count": 12,
   "id": "4b0a26a6",
   "metadata": {},
   "outputs": [
    {
     "name": "stdout",
     "output_type": "stream",
     "text": [
      "Enter an integer value: -9\n"
     ]
    },
    {
     "ename": "AssertionError",
     "evalue": "",
     "output_type": "error",
     "traceback": [
      "\u001b[1;31m---------------------------------------------------------------------------\u001b[0m",
      "\u001b[1;31mAssertionError\u001b[0m                            Traceback (most recent call last)",
      "\u001b[1;32m~\\AppData\\Local\\Temp/ipykernel_16292/660411428.py\u001b[0m in \u001b[0;36m<module>\u001b[1;34m\u001b[0m\n\u001b[0;32m      1\u001b[0m \u001b[0mspam\u001b[0m  \u001b[1;33m=\u001b[0m \u001b[0mint\u001b[0m\u001b[1;33m(\u001b[0m\u001b[0minput\u001b[0m\u001b[1;33m(\u001b[0m\u001b[1;34m'Enter an integer value: '\u001b[0m\u001b[1;33m)\u001b[0m\u001b[1;33m)\u001b[0m\u001b[1;33m\u001b[0m\u001b[1;33m\u001b[0m\u001b[0m\n\u001b[0;32m      2\u001b[0m \u001b[1;33m\u001b[0m\u001b[0m\n\u001b[1;32m----> 3\u001b[1;33m \u001b[1;32massert\u001b[0m \u001b[0mspam\u001b[0m\u001b[1;33m>\u001b[0m\u001b[1;36m0\u001b[0m\u001b[1;33m\u001b[0m\u001b[1;33m\u001b[0m\u001b[0m\n\u001b[0m",
      "\u001b[1;31mAssertionError\u001b[0m: "
     ]
    }
   ],
   "source": [
    "spam  = int(input('Enter an integer value: '))\n",
    "\n",
    "assert spam>0"
   ]
  },
  {
   "cell_type": "markdown",
   "id": "20a2597b",
   "metadata": {},
   "source": [
    "### Question2\n",
    "\n",
    "Write an assert statement that triggers an AsserionError if the variables eggs and bacon contain strings that are the same as each other, even if their cases are different (that is, 'hello' and 'hello' are considered the same, and 'goodbye' and 'GOODbye' are also considered the same).\n",
    "\n",
    "### Answer:-\n"
   ]
  },
  {
   "cell_type": "code",
   "execution_count": 20,
   "id": "e11d17be",
   "metadata": {},
   "outputs": [
    {
     "name": "stdout",
     "output_type": "stream",
     "text": [
      "hello\n",
      "Hello\n"
     ]
    },
    {
     "ename": "AssertionError",
     "evalue": "",
     "output_type": "error",
     "traceback": [
      "\u001b[1;31m---------------------------------------------------------------------------\u001b[0m",
      "\u001b[1;31mAssertionError\u001b[0m                            Traceback (most recent call last)",
      "\u001b[1;32m~\\AppData\\Local\\Temp/ipykernel_16292/3145703180.py\u001b[0m in \u001b[0;36m<module>\u001b[1;34m\u001b[0m\n\u001b[0;32m      2\u001b[0m \u001b[0mbacon\u001b[0m \u001b[1;33m=\u001b[0m \u001b[0minput\u001b[0m\u001b[1;33m(\u001b[0m\u001b[1;33m)\u001b[0m\u001b[1;33m.\u001b[0m\u001b[0mlower\u001b[0m\u001b[1;33m(\u001b[0m\u001b[1;33m)\u001b[0m\u001b[1;33m\u001b[0m\u001b[1;33m\u001b[0m\u001b[0m\n\u001b[0;32m      3\u001b[0m \u001b[1;33m\u001b[0m\u001b[0m\n\u001b[1;32m----> 4\u001b[1;33m \u001b[1;32massert\u001b[0m \u001b[0meggs\u001b[0m\u001b[1;33m!=\u001b[0m\u001b[0mbacon\u001b[0m\u001b[1;33m\u001b[0m\u001b[1;33m\u001b[0m\u001b[0m\n\u001b[0m",
      "\u001b[1;31mAssertionError\u001b[0m: "
     ]
    }
   ],
   "source": [
    "eggs = input().lower()\n",
    "bacon = input().lower()\n",
    "\n",
    "assert eggs!=bacon"
   ]
  },
  {
   "cell_type": "markdown",
   "id": "e79d42da",
   "metadata": {},
   "source": [
    "### Question3\n",
    "\n",
    "Create an assert statement that throws an AssertionError every time.\n",
    "\n",
    "### Answer:-\n"
   ]
  },
  {
   "cell_type": "code",
   "execution_count": 24,
   "id": "4c322256",
   "metadata": {},
   "outputs": [
    {
     "ename": "AssertionError",
     "evalue": "",
     "output_type": "error",
     "traceback": [
      "\u001b[1;31m---------------------------------------------------------------------------\u001b[0m",
      "\u001b[1;31mAssertionError\u001b[0m                            Traceback (most recent call last)",
      "\u001b[1;32m~\\AppData\\Local\\Temp/ipykernel_16292/2103537015.py\u001b[0m in \u001b[0;36m<module>\u001b[1;34m\u001b[0m\n\u001b[1;32m----> 1\u001b[1;33m \u001b[1;32massert\u001b[0m \u001b[1;32mFalse\u001b[0m\u001b[1;33m\u001b[0m\u001b[1;33m\u001b[0m\u001b[0m\n\u001b[0m",
      "\u001b[1;31mAssertionError\u001b[0m: "
     ]
    }
   ],
   "source": [
    "assert False"
   ]
  },
  {
   "cell_type": "markdown",
   "id": "69213fc8",
   "metadata": {},
   "source": [
    "### Question4\n",
    "\n",
    "What are the two lines that must be present in your software in order to call logging.debug()?\n",
    "\n",
    "### Answer:-\n",
    "\n",
    "These two lines are important to call logging.debug(), `import logging` and `logging.basicConfig`"
   ]
  },
  {
   "cell_type": "code",
   "execution_count": 25,
   "id": "bb731586",
   "metadata": {},
   "outputs": [],
   "source": [
    "import logging\n",
    "logging.basicConfig(level=logging.DEBUG, format='%(asctime)s %(levelname)s %(message)s')"
   ]
  },
  {
   "cell_type": "markdown",
   "id": "18943146",
   "metadata": {},
   "source": [
    "### Question5\n",
    "\n",
    "What are the two lines that you program must have in order to have logging.debug() send a logging message to a file named programLog.txt?\n",
    "\n",
    "### Answer:-\n",
    "\n",
    "These two lines are important."
   ]
  },
  {
   "cell_type": "code",
   "execution_count": 27,
   "id": "7f375fd0",
   "metadata": {},
   "outputs": [],
   "source": [
    "import logging\n",
    "logging.basicConfig(filename = 'programLog.txt', level=logging.DEBUG, format='%(asctime)s %(levelname)s %(message)s')"
   ]
  },
  {
   "cell_type": "markdown",
   "id": "33cbe0c6",
   "metadata": {},
   "source": [
    "### Question6\n",
    "\n",
    "What are the five levels of logging?\n",
    "\n",
    "### Answer:-\n",
    "\n",
    "The five levels of logging are:-\n",
    "\n",
    "`CRITICAL`\n",
    "\n",
    "`ERROR`\n",
    "\n",
    "`WARNING`\n",
    "\n",
    "`INFO`\n",
    "\n",
    "`DEBUG`"
   ]
  },
  {
   "cell_type": "markdown",
   "id": "3a95d7a8",
   "metadata": {},
   "source": [
    "### Question7\n",
    "\n",
    "What line of code would you add to your software to disable all logging messages?\n",
    "\n",
    "### Answer:-\n",
    "\n",
    "We'll add `logging.disable(logging.CRITICAL)` line to disable all the logging message\n"
   ]
  },
  {
   "cell_type": "markdown",
   "id": "03ed8cc3",
   "metadata": {},
   "source": [
    "### Question8\n",
    "\n",
    "Why is using logging message better than using print() to display the same message?\n",
    "\n",
    "### Answer:-\n",
    "\n",
    "There are lots of advantages for using logging message like we can disable the logging message without deleting logging function but in `print()` we have to delete all the prints one by one and it takes to much time, we have levels in logging and logging messages provides a timestamp."
   ]
  },
  {
   "cell_type": "markdown",
   "id": "87314378",
   "metadata": {},
   "source": [
    "### Question9\n",
    "\n",
    "What are the differences between Step Over, Step In, and Step Out buttons is the bedugger?\n",
    "\n",
    "### Answer:-\n",
    "\n",
    "`Step Over`:- Step over buttons will execute the function without stepping into it.\n",
    "\n",
    "`Step In`:- If we want to debug a method of function there will we use step in buttons\n",
    "\n",
    "`Step out`:- If we want to debug entire code there we use `step-out` button. "
   ]
  },
  {
   "cell_type": "markdown",
   "id": "173fd072",
   "metadata": {},
   "source": [
    "### Question10\n",
    "\n",
    "After you click Continue, when will the debugger stop?\n",
    "\n",
    "### Answer\n",
    "\n",
    "After we click continue the debugger only stop if there is a breakpoint encountered.\n"
   ]
  },
  {
   "cell_type": "markdown",
   "id": "d8589424",
   "metadata": {},
   "source": [
    "### Question11\n",
    "\n",
    "What is the concept of breakpoint?\n",
    "\n",
    "### Answer:-\n",
    "\n",
    "A breakpoint is a setting on a line of code where the debugger pause the program, when program reaches on the line where breakpoint is set.\n"
   ]
  }
 ],
 "metadata": {
  "kernelspec": {
   "display_name": "Python 3 (ipykernel)",
   "language": "python",
   "name": "python3"
  },
  "language_info": {
   "codemirror_mode": {
    "name": "ipython",
    "version": 3
   },
   "file_extension": ".py",
   "mimetype": "text/x-python",
   "name": "python",
   "nbconvert_exporter": "python",
   "pygments_lexer": "ipython3",
   "version": "3.8.11"
  }
 },
 "nbformat": 4,
 "nbformat_minor": 5
}
